{
 "cells": [
  {
   "cell_type": "markdown",
   "metadata": {},
   "source": [
    "# 使用TensorBoard可视化Fashion-MNIST数据集\n",
    "\n",
    "本notebook展示如何使用TensorBoard替代matplotlib来可视化Fashion-MNIST数据集。\n",
    "\n",
    "## 安装依赖\n",
    "\n",
    "首先确保安装了必要的包：\n",
    "```bash\n",
    "pip install torch torchvision tensorboard\n",
    "```"
   ]
  },
  {
   "cell_type": "code",
   "execution_count": 1,
   "metadata": {},
   "outputs": [
    {
     "name": "stdout",
     "output_type": "stream",
     "text": [
      "✅ 库导入完成\n"
     ]
    }
   ],
   "source": [
    "# 导入必要的库\n",
    "import torch\n",
    "import torchvision\n",
    "from torch.utils import data\n",
    "from torchvision import transforms\n",
    "from torch.utils.tensorboard import SummaryWriter\n",
    "import numpy as np\n",
    "from datetime import datetime\n",
    "import os\n",
    "\n",
    "# 设置随机种子\n",
    "torch.manual_seed(42)\n",
    "print('✅ 库导入完成')"
   ]
  },
  {
   "cell_type": "code",
   "execution_count": 2,
   "metadata": {},
   "outputs": [
    {
     "name": "stdout",
     "output_type": "stream",
     "text": [
      "✅ 标签函数定义完成\n"
     ]
    }
   ],
   "source": [
    "def get_fashion_mnist_labels(labels):\n",
    "    \"\"\"返回Fashion-MNIST数据集的文本标签\"\"\"\n",
    "    text_labels = ['t-shirt', 'trouser', 'pullover', 'dress', 'coat',\n",
    "                   'sandal', 'shirt', 'sneaker', 'bag', 'ankle boot']\n",
    "    return [text_labels[int(i)] for i in labels]\n",
    "\n",
    "print('✅ 标签函数定义完成')"
   ]
  },
  {
   "cell_type": "code",
   "execution_count": 3,
   "metadata": {},
   "outputs": [
    {
     "name": "stdout",
     "output_type": "stream",
     "text": [
      "正在加载Fashion-MNIST数据集...\n",
      "训练集大小: 60000\n",
      "测试集大小: 10000\n",
      "图像形状: torch.Size([1, 28, 28])\n",
      "✅ 数据集加载完成\n"
     ]
    }
   ],
   "source": [
    "# 加载Fashion-MNIST数据集\n",
    "print('正在加载Fashion-MNIST数据集...')\n",
    "\n",
    "# 数据变换\n",
    "trans = transforms.ToTensor()\n",
    "\n",
    "# 加载数据集\n",
    "mnist_train = torchvision.datasets.FashionMNIST(\n",
    "    root=\"./Machine-Learning/data\", train=True, transform=trans, download=True)\n",
    "\n",
    "mnist_test = torchvision.datasets.FashionMNIST(\n",
    "    root=\"./Machine-Learning/data\", train=False, transform=trans, download=True)\n",
    "\n",
    "print(f'训练集大小: {len(mnist_train)}')\n",
    "print(f'测试集大小: {len(mnist_test)}')\n",
    "print(f'图像形状: {mnist_train[0][0].shape}')\n",
    "print('✅ 数据集加载完成')"
   ]
  },
  {
   "cell_type": "markdown",
   "metadata": {},
   "source": [
    "## 1. 基础TensorBoard可视化\n",
    "\n",
    "创建TensorBoard writer并添加单个图像样本："
   ]
  },
  {
   "cell_type": "code",
   "execution_count": 4,
   "metadata": {},
   "outputs": [
    {
     "name": "stdout",
     "output_type": "stream",
     "text": [
      "TensorBoard日志保存在: runs/fashion_mnist_20250914_171846\n",
      "启动TensorBoard命令: tensorboard --logdir=runs\n",
      "添加单个样本到TensorBoard...\n",
      "✅ 单个样本添加完成\n"
     ]
    }
   ],
   "source": [
    "# 创建TensorBoard日志目录\n",
    "log_dir = f\"runs/fashion_mnist_{datetime.now().strftime('%Y%m%d_%H%M%S')}\"\n",
    "writer = SummaryWriter(log_dir)\n",
    "\n",
    "print(f'TensorBoard日志保存在: {log_dir}')\n",
    "print('启动TensorBoard命令: tensorboard --logdir=runs')\n",
    "\n",
    "# 添加单个样本\n",
    "print('添加单个样本到TensorBoard...')\n",
    "for i in range(10):\n",
    "    img, label = mnist_train[i]\n",
    "    label_text = get_fashion_mnist_labels([label])[0]\n",
    "    \n",
    "    # 添加图像到TensorBoard\n",
    "    writer.add_image(f'Single_Samples/{i:02d}_{label_text}', img, 0)\n",
    "\n",
    "print('✅ 单个样本添加完成')"
   ]
  },
  {
   "cell_type": "markdown",
   "metadata": {},
   "source": [
    "## 2. 创建图像网格\n",
    "\n",
    "这相当于原始代码中的 `show_images` 函数功能："
   ]
  },
  {
   "cell_type": "code",
   "execution_count": 5,
   "metadata": {},
   "outputs": [
    {
     "name": "stdout",
     "output_type": "stream",
     "text": [
      "批量数据形状: torch.Size([18, 1, 28, 28])\n",
      "标签: tensor([5, 7, 4, 7, 3, 8, 9, 5, 3, 1, 2, 3, 2, 3, 3, 7, 9, 9])\n",
      "标签文本: ['sandal', 'sneaker', 'coat', 'sneaker', 'dress', 'bag', 'ankle boot', 'sandal', 'dress', 'trouser', 'pullover', 'dress', 'pullover', 'dress', 'dress', 'sneaker', 'ankle boot', 'ankle boot']\n",
      "✅ 图像网格创建完成\n"
     ]
    }
   ],
   "source": [
    "# 获取一批数据 (相当于原始代码中的批量获取)\n",
    "batch_size = 18\n",
    "train_loader = data.DataLoader(mnist_train, batch_size=batch_size, shuffle=True)\n",
    "X, y = next(iter(train_loader))\n",
    "\n",
    "print(f'批量数据形状: {X.shape}')\n",
    "print(f'标签: {y}')\n",
    "\n",
    "# 获取标签文本\n",
    "labels_text = get_fashion_mnist_labels(y)\n",
    "print(f'标签文本: {labels_text}')\n",
    "\n",
    "# 创建图像网格 (类似原始代码的 show_images 功能)\n",
    "img_grid = torchvision.utils.make_grid(\n",
    "    X.reshape(batch_size, 1, 28, 28),  # 重塑为正确形状\n",
    "    nrow=6,  # 每行6张图片 (类似原始代码的 2行9列)\n",
    "    normalize=True,\n",
    "    scale_each=True,\n",
    "    pad_value=1\n",
    ")\n",
    "\n",
    "# 添加到TensorBoard\n",
    "writer.add_image('Fashion_MNIST_Grid', img_grid, 0)\n",
    "\n",
    "print('✅ 图像网格创建完成')"
   ]
  },
  {
   "cell_type": "markdown",
   "metadata": {},
   "source": [
    "## 3. 按类别分组可视化\n",
    "\n",
    "为每个Fashion-MNIST类别创建单独的可视化："
   ]
  },
  {
   "cell_type": "code",
   "execution_count": 6,
   "metadata": {},
   "outputs": [
    {
     "name": "stdout",
     "output_type": "stream",
     "text": [
      "按类别收集样本...\n",
      "✅ 类别分组可视化完成\n"
     ]
    }
   ],
   "source": [
    "# 按类别收集样本\n",
    "print('按类别收集样本...')\n",
    "class_samples = {}\n",
    "\n",
    "for i, (img, label) in enumerate(mnist_train):\n",
    "    label_int = int(label)\n",
    "    if label_int not in class_samples:\n",
    "        class_samples[label_int] = []\n",
    "    if len(class_samples[label_int]) < 6:  # 每个类别6个样本\n",
    "        class_samples[label_int].append(img)\n",
    "    \n",
    "    # 所有类别都收集够了就停止\n",
    "    if all(len(samples) >= 6 for samples in class_samples.values()) and len(class_samples) == 10:\n",
    "        break\n",
    "\n",
    "# 为每个类别创建网格\n",
    "for label_int, images in class_samples.items():\n",
    "    if len(images) > 0:\n",
    "        label_text = get_fashion_mnist_labels([label_int])[0]\n",
    "        class_grid = torchvision.utils.make_grid(\n",
    "            torch.stack(images), \n",
    "            nrow=3,\n",
    "            normalize=True,\n",
    "            scale_each=True,\n",
    "            pad_value=1\n",
    "        )\n",
    "        writer.add_image(f'By_Class/{label_int:02d}_{label_text}', class_grid, 0)\n",
    "\n",
    "print('✅ 类别分组可视化完成')"
   ]
  },
  {
   "cell_type": "markdown",
   "metadata": {},
   "source": [
    "## 4. 添加数据集统计信息\n",
    "\n",
    "TensorBoard的优势：可以添加各种统计图表"
   ]
  },
  {
   "cell_type": "code",
   "execution_count": 7,
   "metadata": {},
   "outputs": [
    {
     "name": "stdout",
     "output_type": "stream",
     "text": [
      "计算数据集统计信息...\n",
      "✅ 统计信息添加完成\n"
     ]
    }
   ],
   "source": [
    "# 计算类别分布\n",
    "print('计算数据集统计信息...')\n",
    "class_counts = torch.zeros(10)\n",
    "for _, label in mnist_train:\n",
    "    class_counts[label] += 1\n",
    "\n",
    "# 添加直方图\n",
    "writer.add_histogram('Dataset/Class_Distribution', class_counts, 0)\n",
    "\n",
    "# 添加标量统计\n",
    "writer.add_scalar('Dataset/Total_Samples', len(mnist_train), 0)\n",
    "writer.add_scalar('Dataset/Num_Classes', 10, 0)\n",
    "writer.add_scalar('Dataset/Image_Height', 28, 0)\n",
    "writer.add_scalar('Dataset/Image_Width', 28, 0)\n",
    "\n",
    "# 像素值分布\n",
    "sample_batch = torch.stack([mnist_train[i][0] for i in range(1000)])\n",
    "writer.add_histogram('Dataset/Pixel_Values', sample_batch, 0)\n",
    "\n",
    "# 添加文本信息\n",
    "class_names = \"\\n\".join([f\"{i}: {name}\" for i, name in enumerate(\n",
    "    ['t-shirt', 'trouser', 'pullover', 'dress', 'coat',\n",
    "     'sandal', 'shirt', 'sneaker', 'bag', 'ankle boot']\n",
    ")])\n",
    "writer.add_text('Dataset/Class_Names', class_names, 0)\n",
    "\n",
    "print('✅ 统计信息添加完成')"
   ]
  },
  {
   "cell_type": "markdown",
   "metadata": {},
   "source": [
    "## 5. 完成并启动TensorBoard"
   ]
  },
  {
   "cell_type": "code",
   "execution_count": 9,
   "metadata": {},
   "outputs": [
    {
     "name": "stdout",
     "output_type": "stream",
     "text": [
      "\n",
      "✅ TensorBoard可视化完成!\n",
      "📁 日志目录: runs/fashion_mnist_20250914_171846\n",
      "🚀 启动TensorBoard: tensorboard --logdir=runs\n",
      "🌐 然后在浏览器中打开: http://localhost:6006\n",
      "\n",
      "=== 使用说明 ===\n",
      "1. 在终端运行: tensorboard --logdir=runs\n",
      "2. 在浏览器中打开: http://localhost:6006\n",
      "3. 在TensorBoard界面中切换不同的标签页:\n",
      "   - IMAGES: 查看图像可视化\n",
      "   - HISTOGRAMS: 查看数据分布\n",
      "   - SCALARS: 查看数值统计\n",
      "   - TEXT: 查看文本信息\n"
     ]
    }
   ],
   "source": [
    "# 关闭writer\n",
    "writer.close()\n",
    "\n",
    "print('\\n✅ TensorBoard可视化完成!')\n",
    "print(f'📁 日志目录: {log_dir}')\n",
    "print('🚀 启动TensorBoard: tensorboard --logdir=runs')\n",
    "print('🌐 然后在浏览器中打开: http://localhost:6006')\n",
    "\n",
    "print('\\n=== 使用说明 ===')\n",
    "print('1. 在终端运行: tensorboard --logdir=runs')\n",
    "print('2. 在浏览器中打开: http://localhost:6006')\n",
    "print('3. 在TensorBoard界面中切换不同的标签页:')\n",
    "print('   - IMAGES: 查看图像可视化')\n",
    "print('   - HISTOGRAMS: 查看数据分布')\n",
    "print('   - SCALARS: 查看数值统计')\n",
    "print('   - TEXT: 查看文本信息')"
   ]
  },
  {
   "cell_type": "markdown",
   "metadata": {},
   "source": [
    "## 6. 在Jupyter中直接启动TensorBoard (可选)\n",
    "\n",
    "如果你想在Jupyter notebook中直接查看TensorBoard，可以使用以下命令："
   ]
  },
  {
   "cell_type": "code",
   "execution_count": 10,
   "metadata": {},
   "outputs": [
    {
     "name": "stdout",
     "output_type": "stream",
     "text": [
      "The tensorboard extension is already loaded. To reload it, use:\n",
      "  %reload_ext tensorboard\n"
     ]
    },
    {
     "data": {
      "text/plain": [
       "Reusing TensorBoard on port 6006 (pid 16224), started 0:01:12 ago. (Use '!kill 16224' to kill it.)"
      ]
     },
     "metadata": {},
     "output_type": "display_data"
    },
    {
     "data": {
      "text/html": [
       "\n",
       "      <iframe id=\"tensorboard-frame-a8f92bece4ecdad4\" width=\"100%\" height=\"800\" frameborder=\"0\">\n",
       "      </iframe>\n",
       "      <script>\n",
       "        (function() {\n",
       "          const frame = document.getElementById(\"tensorboard-frame-a8f92bece4ecdad4\");\n",
       "          const url = new URL(\"http://localhost\");\n",
       "          const port = 6006;\n",
       "          if (port) {\n",
       "            url.port = port;\n",
       "          }\n",
       "          frame.src = url;\n",
       "        })();\n",
       "      </script>\n",
       "    "
      ],
      "text/plain": [
       "<IPython.core.display.HTML object>"
      ]
     },
     "metadata": {},
     "output_type": "display_data"
    },
    {
     "name": "stdout",
     "output_type": "stream",
     "text": [
      "如果要在Jupyter中直接显示TensorBoard:\n",
      "1. 安装: pip install jupyter-tensorboard\n",
      "2. 取消注释上面的代码并运行\n"
     ]
    }
   ],
   "source": [
    "# 在Jupyter中启动TensorBoard (需要安装 jupyter-tensorboard)\n",
    "# 取消注释下面的代码来使用:\n",
    "\n",
    "%load_ext tensorboard\n",
    "%tensorboard --logdir runs\n",
    "\n",
    "print('如果要在Jupyter中直接显示TensorBoard:')\n",
    "print('1. 安装: pip install jupyter-tensorboard')\n",
    "print('2. 取消注释上面的代码并运行')"
   ]
  },
  {
   "cell_type": "markdown",
   "metadata": {},
   "source": [
    "## 7. 对比原始方法\n",
    "\n",
    "### 原始matplotlib方法:\n",
    "```python\n",
    "X, y = next(iter(data.DataLoader(mnist_train, batch_size=18)))\n",
    "show_images(X.reshape(18, 28, 28), 2, 9, titles=get_fashion_mnist_labels(y))\n",
    "```\n",
    "\n",
    "### TensorBoard方法的优势:\n",
    "\n",
    "1. **交互性**: 可以缩放、平移图像\n",
    "2. **组织性**: 可以按类别、时间等维度组织\n",
    "3. **统计性**: 可以添加直方图、标量等统计信息\n",
    "4. **持久性**: 结果保存在磁盘上，可以随时查看\n",
    "5. **专业性**: 专为深度学习设计的可视化工具\n",
    "6. **扩展性**: 支持模型图、嵌入等高级可视化\n",
    "\n",
    "### 使用场景:\n",
    "\n",
    "- **快速查看**: 使用matplotlib\n",
    "- **深入分析**: 使用TensorBoard\n",
    "- **模型训练**: TensorBoard可以实时监控训练过程"
   ]
  }
 ],
 "metadata": {
  "kernelspec": {
   "display_name": "d2l",
   "language": "python",
   "name": "d2l"
  },
  "language_info": {
   "codemirror_mode": {
    "name": "ipython",
    "version": 3
   },
   "file_extension": ".py",
   "mimetype": "text/x-python",
   "name": "python",
   "nbconvert_exporter": "python",
   "pygments_lexer": "ipython3",
   "version": "3.9.23"
  }
 },
 "nbformat": 4,
 "nbformat_minor": 4
}
