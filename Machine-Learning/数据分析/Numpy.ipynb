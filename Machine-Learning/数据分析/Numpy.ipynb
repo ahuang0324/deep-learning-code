{
 "cells": [
  {
   "cell_type": "code",
   "execution_count": 1,
   "id": "59c3ea2c-305b-450f-af08-68e9c6c46f61",
   "metadata": {},
   "outputs": [
    {
     "data": {
      "text/plain": [
       "4214231"
      ]
     },
     "execution_count": 1,
     "metadata": {},
     "output_type": "execute_result"
    }
   ],
   "source": [
    "123 ** 321\n",
    "3213\n",
    "4214231\n"
   ]
  },
  {
   "cell_type": "code",
   "execution_count": null,
   "id": "2ddda0bb-9a64-40a6-a8ac-94611074d537",
   "metadata": {},
   "outputs": [],
   "source": [
    "多少钱啊\n",
    "sdad"
   ]
  },
  {
   "cell_type": "code",
   "execution_count": 4,
   "id": "1f8acc7e-0b92-4250-8cd7-a7aa022a7b26",
   "metadata": {},
   "outputs": [
    {
     "data": {
      "text/plain": [
       "\u001b[1;31mInit signature:\u001b[0m \u001b[0mrange\u001b[0m\u001b[1;33m(\u001b[0m\u001b[0mself\u001b[0m\u001b[1;33m,\u001b[0m \u001b[1;33m/\u001b[0m\u001b[1;33m,\u001b[0m \u001b[1;33m*\u001b[0m\u001b[0margs\u001b[0m\u001b[1;33m,\u001b[0m \u001b[1;33m**\u001b[0m\u001b[0mkwargs\u001b[0m\u001b[1;33m)\u001b[0m\u001b[1;33m\u001b[0m\u001b[1;33m\u001b[0m\u001b[0m\n",
       "\u001b[1;31mDocstring:\u001b[0m     \n",
       "range(stop) -> range object\n",
       "range(start, stop[, step]) -> range object\n",
       "\n",
       "Return an object that produces a sequence of integers from start (inclusive)\n",
       "to stop (exclusive) by step.  range(i, j) produces i, i+1, i+2, ..., j-1.\n",
       "start defaults to 0, and stop is omitted!  range(4) produces 0, 1, 2, 3.\n",
       "These are exactly the valid indices for a list of 4 elements.\n",
       "When step is given, it specifies the increment (or decrement).\n",
       "\u001b[1;31mType:\u001b[0m           type\n",
       "\u001b[1;31mSubclasses:\u001b[0m     "
      ]
     },
     "metadata": {},
     "output_type": "display_data"
    }
   ],
   "source": [
    "range?\n"
   ]
  },
  {
   "cell_type": "code",
   "execution_count": 5,
   "id": "fd9540d8-7065-438d-bf71-075498d8142b",
   "metadata": {},
   "outputs": [
    {
     "data": {
      "text/plain": [
       "\u001b[1;31mDocstring:\u001b[0m\n",
       "max(iterable, *[, default=obj, key=func]) -> value\n",
       "max(arg1, arg2, *args, *[, key=func]) -> value\n",
       "\n",
       "With a single iterable argument, return its biggest item. The\n",
       "default keyword-only argument specifies an object to return if\n",
       "the provided iterable is empty.\n",
       "With two or more arguments, return the largest argument.\n",
       "\u001b[1;31mType:\u001b[0m      builtin_function_or_method"
      ]
     },
     "metadata": {},
     "output_type": "display_data"
    }
   ],
   "source": [
    "max?"
   ]
  },
  {
   "cell_type": "code",
   "execution_count": null,
   "id": "ce52f616-1edc-4194-b53d-65c92ab86301",
   "metadata": {},
   "outputs": [],
   "source": [
    "import randomb\n",
    "random."
   ]
  },
  {
   "cell_type": "code",
   "execution_count": 6,
   "id": "c05bd824-e1b2-4ebc-b721-f295cc304ae5",
   "metadata": {},
   "outputs": [
    {
     "name": "stdout",
     "output_type": "stream",
     "text": [
      " 驱动器 D 中的卷是 User\n",
      " 卷的序列号是 240B-B0CC\n",
      "\n",
      " D:\\jupyter-code\\Machine Learning\\数据分析 的目录\n",
      "\n",
      "2025/09/01  15:00    <DIR>          .\n",
      "2025/09/01  15:00    <DIR>          ..\n",
      "2025/09/01  14:30    <DIR>          .ipynb_checkpoints\n",
      "2025/09/01  15:00             4,060 Numpy.ipynb\n",
      "               1 个文件          4,060 字节\n",
      "               3 个目录 2,507,668,168,704 可用字节\n"
     ]
    }
   ],
   "source": [
    "!dir"
   ]
  },
  {
   "cell_type": "code",
   "execution_count": 7,
   "id": "1bb47248-3f3c-45c9-acf0-2c5dc392fecf",
   "metadata": {},
   "outputs": [
    {
     "name": "stdout",
     "output_type": "stream",
     "text": [
      "Looking in indexes: https://pypi.doubanio.com/simple\n",
      "Requirement already satisfied: pandas in d:\\python\\lib\\site-packages (2.3.2)\n",
      "Requirement already satisfied: python-dateutil>=2.8.2 in d:\\python\\lib\\site-packages (from pandas) (2.9.0.post0)\n",
      "Requirement already satisfied: numpy>=1.22.4 in d:\\python\\lib\\site-packages (from pandas) (2.2.6)\n",
      "Requirement already satisfied: pytz>=2020.1 in d:\\python\\lib\\site-packages (from pandas) (2025.2)\n",
      "Requirement already satisfied: tzdata>=2022.7 in d:\\python\\lib\\site-packages (from pandas) (2025.2)\n",
      "Requirement already satisfied: six>=1.5 in d:\\python\\lib\\site-packages (from python-dateutil>=2.8.2->pandas) (1.17.0)\n"
     ]
    },
    {
     "name": "stderr",
     "output_type": "stream",
     "text": [
      "\n",
      "[notice] A new release of pip available: 22.3.1 -> 25.2\n",
      "[notice] To update, run: python.exe -m pip install --upgrade pip\n"
     ]
    }
   ],
   "source": [
    "!pip install pandas"
   ]
  },
  {
   "cell_type": "code",
   "execution_count": 8,
   "id": "4f6cfe4d-8b5c-4aca-9b4b-20f8b9d57e69",
   "metadata": {},
   "outputs": [
    {
     "name": "stderr",
     "output_type": "stream",
     "text": [
      "'pandas' 不是内部或外部命令，也不是可运行的程序\n",
      "或批处理文件。\n"
     ]
    }
   ],
   "source": [
    "!pandas --version"
   ]
  },
  {
   "cell_type": "code",
   "execution_count": null,
   "id": "a4005b88-f908-43f8-a656-f4dd89632167",
   "metadata": {},
   "outputs": [],
   "source": []
  }
 ],
 "metadata": {
  "kernelspec": {
   "display_name": "base",
   "language": "python",
   "name": "python3"
  },
  "language_info": {
   "codemirror_mode": {
    "name": "ipython",
    "version": 3
   },
   "file_extension": ".py",
   "mimetype": "text/x-python",
   "name": "python",
   "nbconvert_exporter": "python",
   "pygments_lexer": "ipython3",
   "version": "3.13.5"
  }
 },
 "nbformat": 4,
 "nbformat_minor": 5
}
