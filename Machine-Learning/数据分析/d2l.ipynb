{
 "cells": [
  {
   "cell_type": "markdown",
   "id": "f459c0ec",
   "metadata": {},
   "source": [
    "### Softmax 回归\n"
   ]
  },
  {
   "cell_type": "markdown",
   "id": "7dd0c7d4",
   "metadata": {},
   "source": []
  }
 ],
 "metadata": {
  "language_info": {
   "name": "python"
  }
 },
 "nbformat": 4,
 "nbformat_minor": 5
}
